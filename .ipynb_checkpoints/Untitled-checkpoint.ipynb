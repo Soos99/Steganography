{
 "cells": [
  {
   "cell_type": "code",
   "execution_count": 1,
   "metadata": {},
   "outputs": [
    {
     "name": "stderr",
     "output_type": "stream",
     "text": [
      "Using TensorFlow backend.\n"
     ]
    }
   ],
   "source": [
    "%matplotlib inline\n",
    "\n",
    "import numpy as np\n",
    "import matplotlib as mpl\n",
    "import matplotlib.pyplot as plt\n",
    "from IPython.display import SVG\n",
    "from keras.utils.vis_utils import model_to_dot, plot_model\n",
    "from keras.datasets import mnist"
   ]
  },
  {
   "cell_type": "code",
   "execution_count": 11,
   "metadata": {},
   "outputs": [],
   "source": [
    "from keras.layers import Input, Dense, Activation, Dropout\n",
    "from keras.layers import BatchNormalization, Flatten, Conv2D\n",
    "from keras.layers import concatenate\n",
    "from keras.models import Model\n",
    "from keras import regularizers\n",
    "from keras.initializers import glorot_normal\n",
    "from keras.optimizers import Adam"
   ]
  },
  {
   "cell_type": "code",
   "execution_count": 12,
   "metadata": {},
   "outputs": [],
   "source": [
    "(x_train, y_train_raw), (x_test, y_test_raw) = mnist.load_data()\n",
    "\n",
    "x_train = x_train.astype(float) / 255.\n",
    "x_test = x_test.astype(float) / 255.\n",
    "x_train = x_train.reshape(*x_train.shape, 1)\n",
    "x_test = x_test.reshape(*x_test.shape, 1)"
   ]
  },
  {
   "cell_type": "code",
   "execution_count": null,
   "metadata": {},
   "outputs": [],
   "source": [
    "from sklearn.preprocessing import LabelEncoder\n",
    "from sklearn.preprocessing import OneHotEncoder\n",
    "\n",
    "y_train = LabelEncoder().fit_transform(y_train_raw)\n",
    "y = OneHotEncoder(sparse=False).fit_transform(ylabel.reshape(-1, 1))"
   ]
  },
  {
   "cell_type": "code",
   "execution_count": 13,
   "metadata": {},
   "outputs": [],
   "source": [
    "def classifier_model(reg=1e-2, dropout=0.1):\n",
    "\n",
    "    # convolution layer\n",
    "    x_input = Input(shape=(28, 28, 1), name='light_curve_input')\n",
    "    x = Conv2D(filters=8, \n",
    "                  kernel_size=5, \n",
    "                  strides=2, \n",
    "                  padding='same',\n",
    "                  kernel_regularizer=regularizers.l2(reg),\n",
    "                  kernel_initializer=glorot_normal())(x_input)\n",
    "    x = BatchNormalization(axis=2)(x)\n",
    "    x = Activation('relu')(x)\n",
    "    x = Conv2D(filters=16, \n",
    "                  kernel_size=5, \n",
    "                  strides=2, \n",
    "                  padding='same',\n",
    "                  kernel_regularizer=regularizers.l2(reg),\n",
    "                  kernel_initializer=glorot_normal())(x)\n",
    "    x = BatchNormalization(axis=2)(x)\n",
    "    x = Activation('relu')(x)\n",
    "    x = Flatten()(x)\n",
    "    x = Dense(32, activation='relu')(x)\n",
    "    x = Dens`e(10, \n",
    "              kernel_regularizer=regularizers.l2(reg),\n",
    "              activation='sigmoid',\n",
    "              name='output')(x)\n",
    "\n",
    "    model = Model(inputs=x_input, outputs=x, name='PhNet')\n",
    "    model.compile(optimizer='adam' , loss='categorical_crossentropy', metrics=['accuracy'])\n",
    "    \n",
    "    return model"
   ]
  },
  {
   "cell_type": "code",
   "execution_count": 14,
   "metadata": {},
   "outputs": [],
   "source": [
    "model = classifier_model()"
   ]
  },
  {
   "cell_type": "code",
   "execution_count": null,
   "metadata": {},
   "outputs": [],
   "source": []
  },
  {
   "cell_type": "code",
   "execution_count": null,
   "metadata": {},
   "outputs": [],
   "source": []
  }
 ],
 "metadata": {
  "kernelspec": {
   "display_name": "Python 3",
   "language": "python",
   "name": "python3"
  },
  "language_info": {
   "codemirror_mode": {
    "name": "ipython",
    "version": 3
   },
   "file_extension": ".py",
   "mimetype": "text/x-python",
   "name": "python",
   "nbconvert_exporter": "python",
   "pygments_lexer": "ipython3",
   "version": "3.6.5"
  }
 },
 "nbformat": 4,
 "nbformat_minor": 2
}
